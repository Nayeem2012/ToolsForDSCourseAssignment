{
 "cells": [
  {
   "cell_type": "markdown",
   "id": "175e7afc-6612-4311-a91c-dde88eeb6128",
   "metadata": {},
   "source": [
    "# My Jupyter Notebook on IBM Watson Studio"
   ]
  },
  {
   "cell_type": "markdown",
   "id": "e3234836-e4f8-4ac2-a457-9ad7238ef734",
   "metadata": {},
   "source": [
    "__ABDUL AWAL NAEIM__  \n",
    "Data Engineer"
   ]
  },
  {
   "cell_type": "markdown",
   "id": "24000e9a-185c-4806-8dff-ce2adb6b1a97",
   "metadata": {},
   "source": [
    "_I am interested in data science because It has already been declared as the hottest job of the 21st century. Data scientist brings in skill sets and knowledge from various backgrounds such as mathematics, statistics, Analytics, modeling, and business acumen. These skills will help me to identify patterns which can help organizations to recognize new market opportunities._"
   ]
  },
  {
   "cell_type": "markdown",
   "id": "a3f2dbb8-5128-4d1e-b0b0-e4de69b963eb",
   "metadata": {},
   "source": [
    "### Below code of mine is supposed to print the value of pi ###"
   ]
  },
  {
   "cell_type": "code",
   "execution_count": 4,
   "id": "28edfab4-9a87-457e-b998-f21615991906",
   "metadata": {},
   "outputs": [
    {
     "data": {
      "text/plain": [
       "3.142857142857143"
      ]
     },
     "execution_count": 4,
     "metadata": {},
     "output_type": "execute_result"
    }
   ],
   "source": [
    "22/7"
   ]
  },
  {
   "cell_type": "markdown",
   "id": "ee0b359d-44ea-4bdb-b948-63018d860829",
   "metadata": {
    "tags": []
   },
   "source": [
    "HORIZONTAL RULE  \n",
    "\n",
    "---\n",
    "\n",
    "BULLETED LIST  \n",
    "\n",
    "---\n",
    "* One  \n",
    "* Two  \n",
    "* Three\n",
    "\n",
    "NUMBERED LIST  \n",
    "\n",
    "---\n",
    "1. One\n",
    "2. Two\n",
    "3. Three\n",
    "\n",
    "\n",
    "Table  \n",
    "\n",
    "---\n",
    "\n",
    "| Country        | Capital           | Currency  |\n",
    "| ------------- |-------------| ----|\n",
    "| Bangladesh      | Dhaka | TAKA |\n",
    "| England      | London      |   British Pound |\n",
    "| India | New Delhi      |    Rupee |\n",
    "\n",
    "Hyperlink  \n",
    "\n",
    "---\n",
    "\n",
    "[THIS IS A LINK TO COURSEERA](https://www.coursera.org/)\n",
    "\n",
    "\n",
    "IMAGES  \n",
    "\n",
    "---\n",
    "\n",
    "![alt text](https://upload.wikimedia.org/wikipedia/commons/thumb/5/51/IBM_logo.svg/2560px-IBM_logo.svg.png \"IBM LOGO\")"
   ]
  },
  {
   "cell_type": "code",
   "execution_count": null,
   "id": "a14b9cfc-df8e-4a36-96ea-380adaa30657",
   "metadata": {},
   "outputs": [],
   "source": []
  }
 ],
 "metadata": {
  "kernelspec": {
   "display_name": "Python",
   "language": "python",
   "name": "conda-env-python-py"
  },
  "language_info": {
   "codemirror_mode": {
    "name": "ipython",
    "version": 3
   },
   "file_extension": ".py",
   "mimetype": "text/x-python",
   "name": "python",
   "nbconvert_exporter": "python",
   "pygments_lexer": "ipython3",
   "version": "3.7.12"
  }
 },
 "nbformat": 4,
 "nbformat_minor": 5
}
